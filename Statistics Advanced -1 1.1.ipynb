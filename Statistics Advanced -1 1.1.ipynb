{
  "nbformat": 4,
  "nbformat_minor": 0,
  "metadata": {
    "colab": {
      "provenance": []
    },
    "kernelspec": {
      "name": "python3",
      "display_name": "Python 3"
    },
    "language_info": {
      "name": "python"
    }
  },
  "cells": [
    {
      "cell_type": "markdown",
      "source": [
        "Question 1: What is a random variable in probability theory?\n"
      ],
      "metadata": {
        "id": "qTSNc7bUCCRe"
      }
    },
    {
      "cell_type": "markdown",
      "source": [
        "=> Types of random variables:\n",
        "\n",
        "Discrete random variable – Takes values from a countable set.\n",
        "Example: The result of rolling a die → {1, 2, 3, 4, 5, 6}\n",
        "\n",
        "Continuous random variable – Can take any value in an interval.\n",
        "Example: The exact height of a person → values in (0, ∞)"
      ],
      "metadata": {
        "id": "JnAhCwlwCt3v"
      }
    },
    {
      "cell_type": "markdown",
      "source": [
        "Question 2: What are the types of random variables?"
      ],
      "metadata": {
        "id": "9L8DkpwcCwn1"
      }
    },
    {
      "cell_type": "markdown",
      "source": [
        "=>\n",
        "1. Discrete Random Variable\n",
        "Definition: Takes values from a countable set (finite or countably infinite).\n",
        "\n",
        "Examples:\n",
        "\n",
        "Number of heads in 3 coin tosses → {0, 1, 2, 3}\n",
        "\n",
        "Roll of a fair die → {1, 2, 3, 4, 5, 6}\n",
        "\n",
        "Key property: Each value has a specific probability, and the sum of all probabilities is 1.\n",
        "\n",
        "\n",
        "2. Continuous Random Variable\n",
        "Definition: Can take any value in a continuous range (uncountably infinite).\n",
        "\n",
        "Examples:\n",
        "\n",
        "Height of students in a class (e.g., 150.2 cm, 165.8 cm, etc.)\n",
        "\n",
        "Time taken to run a race (e.g., 12.35 seconds, 12.351 seconds, etc.)\n",
        "\n",
        "Key property: The probability of the variable being exactly one value is 0 — we work with intervals instead.\n",
        "\n",
        "\n",
        "3. Mixed Random Variable (less common but important)\n",
        "Definition: Has both discrete and continuous components.\n",
        "\n",
        "Example: A delivery time where:\n",
        "\n",
        "10% chance it arrives exactly on time (discrete part)\n",
        "\n",
        "Otherwise, arrival time is spread continuously over the next hour (continuous part).\n",
        "\n"
      ],
      "metadata": {
        "id": "mhuRanbBDyE7"
      }
    },
    {
      "cell_type": "markdown",
      "source": [
        "Question 3: Explain the difference between discrete and continuous distributions.\n"
      ],
      "metadata": {
        "id": "TY7KBv-GE_gk"
      }
    },
    {
      "cell_type": "markdown",
      "source": [
        "=> Example 1 – Discrete:\n",
        "Rolling a fair die\n",
        "\n",
        "𝑋\n",
        "X = outcome of the roll\n",
        "\n",
        "Values: {1, 2, 3, 4, 5, 6}\n",
        "\n",
        "𝑃(𝑋=3)=16P(X=3)= 61​\n",
        "\n",
        "\n",
        "Example 2 – Continuous:\n",
        "Height of adult men\n",
        "\n",
        "𝑋\n",
        "X = height in cm\n",
        "\n",
        "Values: any real number between ~150 cm and ~200 cm\n",
        "\n",
        "𝑃(𝑋=170)=0\n",
        "P(X=170)=0 (exact value probability = 0)\n",
        "\n",
        "But\n",
        "𝑃(169.5≤𝑋≤170.5)\n",
        "P(169.5≤X≤170.5) could be 0.05"
      ],
      "metadata": {
        "id": "pL4cJoRHFBs_"
      }
    },
    {
      "cell_type": "markdown",
      "source": [
        "Question 4: What is a binomial distribution, and how is it used in probability?\n"
      ],
      "metadata": {
        "id": "DsV_wrBDF0a3"
      }
    },
    {
      "cell_type": "markdown",
      "source": [
        "=> A binomial distribution is a type of discrete probability distribution that models the number of successes in a fixed number of independent trials, where each trial has only two possible outcomes — usually called success and failure."
      ],
      "metadata": {
        "id": "FOJbcXXOGWrc"
      }
    },
    {
      "cell_type": "markdown",
      "source": [
        "Question 5: What is the standard normal distribution, and why is it important?\n"
      ],
      "metadata": {
        "id": "EavV8u89GhoT"
      }
    },
    {
      "cell_type": "markdown",
      "source": [
        "=> The standard normal distribution is a special case of the normal (Gaussian) distribution where:\n",
        "\n",
        "Mean (𝜇) = 0\n",
        "\n",
        "Standard deviation (σ) = 1\n",
        "\n",
        "Its shape is the familiar bell curve, symmetric about 0.\n",
        "\n"
      ],
      "metadata": {
        "id": "C-l28749GkYF"
      }
    },
    {
      "cell_type": "markdown",
      "source": [
        "Question 6: What is the Central Limit Theorem (CLT), and why is it critical in statistics?\n",
        "\n",
        "\n"
      ],
      "metadata": {
        "id": "fgCLK35TH7O1"
      }
    },
    {
      "cell_type": "markdown",
      "source": [
        "=> The Central Limit Theorem (CLT) is one of the most important results in statistics because it explains why the normal distribution appears so often in real-world data analysis."
      ],
      "metadata": {
        "id": "10HCyRbWH94U"
      }
    },
    {
      "cell_type": "markdown",
      "source": [
        "Question 7: What is the significance of confidence intervals in statistical analysis?\n"
      ],
      "metadata": {
        "id": "W64tBBojId-M"
      }
    },
    {
      "cell_type": "markdown",
      "source": [
        "=> A confidence interval (CI) gives a range of values within which we expect the true population parameter (like the mean or proportion) to lie, with a certain level of confidence.\n",
        "\n"
      ],
      "metadata": {
        "id": "cKicmlabIeoU"
      }
    },
    {
      "cell_type": "markdown",
      "source": [
        "Question 8: What is the concept of expected value in a probability distribution?\n"
      ],
      "metadata": {
        "id": "v6CKI_aiIoz1"
      }
    },
    {
      "cell_type": "markdown",
      "source": [
        "=> The expected value (EV) in a probability distribution is essentially the long-run average outcome you would get if you repeated an experiment many times."
      ],
      "metadata": {
        "id": "Wfj3gClQIpr-"
      }
    },
    {
      "cell_type": "markdown",
      "source": [
        "Question 9: Write a Python program to generate 1000 random numbers from a normal\n",
        "distribution with mean = 50 and standard deviation = 5. Compute its mean and standard\n",
        "deviation using NumPy, and draw a histogram to visualize the distribution.\n"
      ],
      "metadata": {
        "id": "GPxQRIRpI2Qt"
      }
    },
    {
      "cell_type": "code",
      "source": [
        "import numpy as np\n",
        "import matplotlib.pyplot as plt\n",
        "\n",
        "mean = 50\n",
        "std_dev = 5\n",
        "size = 1000\n",
        "\n",
        "data = np.random.normal(mean, std_dev, size)\n",
        "\n",
        "calculated_mean = np.mean(data)\n",
        "calculated_std = np.std(data)\n",
        "\n",
        "print(f\"Calculated Mean: {calculated_mean:.2f}\")\n",
        "print(f\"Calculated Standard Deviation: {calculated_std:.2f}\")\n",
        "\n",
        "plt.hist(data, bins=30, color='skyblue', edgecolor='black')\n",
        "plt.title(\"Histogram of Normally Distributed Data\")\n",
        "plt.xlabel(\"Value\")\n",
        "plt.ylabel(\"Frequency\")\n",
        "plt.grid(True, linestyle='--', alpha=0.6)\n",
        "plt.show()\n"
      ],
      "metadata": {
        "colab": {
          "base_uri": "https://localhost:8080/",
          "height": 507
        },
        "id": "K5HTVY3EJGUO",
        "outputId": "859c874a-20f3-48a3-da85-2b2a2eda3eaa"
      },
      "execution_count": 1,
      "outputs": [
        {
          "output_type": "stream",
          "name": "stdout",
          "text": [
            "Calculated Mean: 49.97\n",
            "Calculated Standard Deviation: 4.77\n"
          ]
        },
        {
          "output_type": "display_data",
          "data": {
            "text/plain": [
              "<Figure size 640x480 with 1 Axes>"
            ],
            "image/png": "[encoded data removed]"
          },
          "metadata": {}
        }
      ]
    },
    {
      "cell_type": "markdown",
      "source": [
        "Question 10: You are working as a data analyst for a retail company. The company has\n",
        "collected daily sales data for 2 years and wants you to identify the overall sales trend.\n",
        "daily_sales = [220, 245, 210, 265, 230, 250, 260, 275, 240, 255,\n",
        " 235, 260, 245, 250, 225, 270, 265, 255, 250, 260]\n",
        "● Explain how you would apply the Central Limit Theorem to estimate the average sales\n",
        "with a 95% confidence interval.\n",
        "● Write the Python code to compute the mean sales and its confidence interval"
      ],
      "metadata": {
        "id": "HOArHKS0J0cS"
      }
    },
    {
      "cell_type": "code",
      "source": [
        "import numpy as np\n",
        "import scipy.stats as stats\n",
        "\n",
        "daily_sales = [220, 245, 210, 265, 230, 250, 260, 275, 240, 255,\n",
        "               235, 260, 245, 250, 225, 270, 265, 255, 250, 260]\n",
        "\n",
        "data = np.array(daily_sales)\n",
        "\n",
        "n = len(data)\n",
        "mean_sales = np.mean(data)\n",
        "std_sales = np.std(data, ddof=1)\n",
        "\n",
        "SE = std_sales / np.sqrt(n)\n",
        "\n",
        "t_value = stats.t.ppf(0.975, df=n-1)\n",
        "\n",
        "margin_of_error = t_value * SE\n",
        "\n",
        "lower_bound = mean_sales - margin_of_error\n",
        "upper_bound = mean_sales + margin_of_error\n",
        "\n",
        "print(f\"Mean Sales: {mean_sales:.2f}\")\n",
        "print(f\"95% Confidence Interval: ({lower_bound:.2f}, {upper_bound:.2f})\")\n"
      ],
      "metadata": {
        "colab": {
          "base_uri": "https://localhost:8080/"
        },
        "id": "OCvGnrp4J1ni",
        "outputId": "a2d0b30b-26ff-44ce-9d5a-d2ff9cd5abf9"
      },
      "execution_count": 2,
      "outputs": [
        {
          "output_type": "stream",
          "name": "stdout",
          "text": [
            "Mean Sales: 248.25\n",
            "95% Confidence Interval: (240.17, 256.33)\n"
          ]
        }
      ]
    }
  ]
}